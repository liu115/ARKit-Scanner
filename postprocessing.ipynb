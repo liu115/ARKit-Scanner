{
 "cells": [
  {
   "cell_type": "code",
   "execution_count": 1,
   "metadata": {},
   "outputs": [],
   "source": [
    "import os\n",
    "import numpy as np\n",
    "import matplotlib.image as mpimg\n",
    "from bs4 import BeautifulSoup\n",
    "%matplotlib inline"
   ]
  },
  {
   "cell_type": "markdown",
   "metadata": {},
   "source": [
    "## Extract XML file"
   ]
  },
  {
   "cell_type": "code",
   "execution_count": 2,
   "metadata": {},
   "outputs": [],
   "source": [
    "# Get Intristics\n",
    "with open('intri.xml', 'r') as f:\n",
    "    intri = f.read()\n",
    "intri_data = BeautifulSoup(intri, 'xml')\n",
    "intri_real = intri_data.find_all('real')\n",
    "# for i in range(0, len(intri_real)):\n",
    "    # print(str(intri_real[i]).split('<real>')[1].split(\"</real>\")[0])"
   ]
  },
  {
   "cell_type": "code",
   "execution_count": 3,
   "metadata": {},
   "outputs": [],
   "source": [
    "# Get Transform\n",
    "for file in os.listdir(\"12-10-22:14:13:21\"): # define the directory yourself\n",
    "    filename = os.fsdecode(file)\n",
    "    if filename.endswith(\"trans.xml\"):\n",
    "        with open(\"12-10-22:14:13:21/\" + filename, 'r') as f:\n",
    "            trans = f.read()\n",
    "        trans_data = BeautifulSoup(trans, 'xml')\n",
    "        trans_real = trans_data.find_all('real')\n",
    "        #for i in range(0, len(intri_real)):\n",
    "            # print(str(trans_real[i]).split('<real>')[1].split(\"</real>\")[0])"
   ]
  },
  {
   "cell_type": "markdown",
   "metadata": {},
   "source": [
    "## Extract binary file"
   ]
  },
  {
   "cell_type": "code",
   "execution_count": 4,
   "metadata": {},
   "outputs": [
    {
     "name": "stdout",
     "output_type": "stream",
     "text": [
      "(192, 256, 438)\n"
     ]
    }
   ],
   "source": [
    "# depth values\n",
    "depthValues = np.fromfile(\"depthBufferSequence.bin\", dtype=np.float32)\n",
    "depthValues = depthValues.reshape(192, 256, -1)\n",
    "print(depthValues.shape)\n",
    "\n",
    "# compressed depth values\n",
    "compressed_data = open('depthBufferSequence', 'rb').read()\n",
    "decompressed_data = zlib.decompress(compressed_data, wbits=-zlib.MAX_WBITS)\n",
    "depthValues = np.frombuffer(decompressed_data, dtype=np.float32).reshape(-1, 192, 256)\n",
    "print(depthValues.shape)"
   ]
  },
  {
   "cell_type": "markdown",
   "metadata": {},
   "source": [
    "## Get RGB values"
   ]
  },
  {
   "cell_type": "code",
   "execution_count": 5,
   "metadata": {},
   "outputs": [
    {
     "name": "stdout",
     "output_type": "stream",
     "text": [
      "[[[121  93  53]\n",
      "  [121  93  53]\n",
      "  [121  93  53]\n",
      "  ...\n",
      "  [156 128  88]\n",
      "  [156 128  88]\n",
      "  [156 128  88]]\n",
      "\n",
      " [[121  93  53]\n",
      "  [121  93  53]\n",
      "  [121  93  53]\n",
      "  ...\n",
      "  [156 128  88]\n",
      "  [156 128  88]\n",
      "  [156 128  88]]\n",
      "\n",
      " [[121  93  53]\n",
      "  [121  93  53]\n",
      "  [121  93  53]\n",
      "  ...\n",
      "  [156 128  88]\n",
      "  [156 128  88]\n",
      "  [156 128  88]]\n",
      "\n",
      " ...\n",
      "\n",
      " [[231 216 195]\n",
      "  [231 216 195]\n",
      "  [231 216 195]\n",
      "  ...\n",
      "  [191 165 114]\n",
      "  [191 165 114]\n",
      "  [191 165 114]]\n",
      "\n",
      " [[233 218 197]\n",
      "  [233 218 197]\n",
      "  [233 218 197]\n",
      "  ...\n",
      "  [191 165 114]\n",
      "  [191 165 114]\n",
      "  [191 165 114]]\n",
      "\n",
      " [[233 218 197]\n",
      "  [233 218 197]\n",
      "  [233 218 197]\n",
      "  ...\n",
      "  [191 165 114]\n",
      "  [191 165 114]\n",
      "  [191 165 114]]]\n"
     ]
    }
   ],
   "source": [
    "img = mpimg.imread('590518.69072_color.jpeg')\n",
    "print(img)"
   ]
  },
  {
   "cell_type": "code",
   "execution_count": null,
   "metadata": {},
   "outputs": [],
   "source": []
  }
 ],
 "metadata": {
  "kernelspec": {
   "display_name": "Python 3",
   "language": "python",
   "name": "python3"
  },
  "language_info": {
   "codemirror_mode": {
    "name": "ipython",
    "version": 3
   },
   "file_extension": ".py",
   "mimetype": "text/x-python",
   "name": "python",
   "nbconvert_exporter": "python",
   "pygments_lexer": "ipython3",
   "version": "3.7.3"
  }
 },
 "nbformat": 4,
 "nbformat_minor": 4
}
